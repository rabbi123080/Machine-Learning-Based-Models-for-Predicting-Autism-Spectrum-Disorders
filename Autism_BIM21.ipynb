{
  "nbformat": 4,
  "nbformat_minor": 0,
  "metadata": {
    "colab": {
      "name": "Autism Spectrum Journal.ipynb",
      "provenance": [],
      "collapsed_sections": [],
      "include_colab_link": true
    },
    "kernelspec": {
      "name": "python3",
      "display_name": "Python 3"
    },
    "accelerator": "TPU"
  },
  "cells": [
    {
      "cell_type": "markdown",
      "metadata": {
        "id": "view-in-github",
        "colab_type": "text"
      },
      "source": [
        "<a href=\"https://colab.research.google.com/github/rabbi123080/Machine-Learning-Based-Models-for-Predicting-Autism-Spectrum-Disorders/blob/main/Autism_BIM21.ipynb\" target=\"_parent\"><img src=\"https://colab.research.google.com/assets/colab-badge.svg\" alt=\"Open In Colab\"/></a>"
      ]
    },
    {
      "cell_type": "code",
      "metadata": {
        "id": "Au6atyRO13Zi"
      },
      "source": [
        "import pandas as pd\n",
        "import numpy as np\n",
        "df = pd.read_csv(\"/content/csv_result-Autism-Adolescent-Data.csv\")\n",
        "df.head()\n",
        "import warnings\n",
        "warnings.filterwarnings(\"ignore\")"
      ],
      "execution_count": null,
      "outputs": []
    },
    {
      "cell_type": "code",
      "metadata": {
        "id": "Zpr0CDYLr8xL",
        "colab": {
          "base_uri": "https://localhost:8080/",
          "height": 195
        },
        "outputId": "ec713cfe-c3d3-4f27-8f07-94ef9514a41e"
      },
      "source": [
        "df.head()"
      ],
      "execution_count": null,
      "outputs": [
        {
          "output_type": "execute_result",
          "data": {
            "text/html": [
              "<div>\n",
              "<style scoped>\n",
              "    .dataframe tbody tr th:only-of-type {\n",
              "        vertical-align: middle;\n",
              "    }\n",
              "\n",
              "    .dataframe tbody tr th {\n",
              "        vertical-align: top;\n",
              "    }\n",
              "\n",
              "    .dataframe thead th {\n",
              "        text-align: right;\n",
              "    }\n",
              "</style>\n",
              "<table border=\"1\" class=\"dataframe\">\n",
              "  <thead>\n",
              "    <tr style=\"text-align: right;\">\n",
              "      <th></th>\n",
              "      <th>A1_Score</th>\n",
              "      <th>A2_Score</th>\n",
              "      <th>A3_Score</th>\n",
              "      <th>A4_Score</th>\n",
              "      <th>A5_Score</th>\n",
              "      <th>A6_Score</th>\n",
              "      <th>A7_Score</th>\n",
              "      <th>A8_Score</th>\n",
              "      <th>A9_Score</th>\n",
              "      <th>A10_Score</th>\n",
              "      <th>age</th>\n",
              "      <th>gender</th>\n",
              "      <th>jundice</th>\n",
              "      <th>austim</th>\n",
              "      <th>Class/ASD</th>\n",
              "    </tr>\n",
              "  </thead>\n",
              "  <tbody>\n",
              "    <tr>\n",
              "      <th>0</th>\n",
              "      <td>0</td>\n",
              "      <td>0</td>\n",
              "      <td>0</td>\n",
              "      <td>1</td>\n",
              "      <td>1</td>\n",
              "      <td>1</td>\n",
              "      <td>1</td>\n",
              "      <td>1</td>\n",
              "      <td>1</td>\n",
              "      <td>0</td>\n",
              "      <td>15</td>\n",
              "      <td>1</td>\n",
              "      <td>1</td>\n",
              "      <td>1</td>\n",
              "      <td>0</td>\n",
              "    </tr>\n",
              "    <tr>\n",
              "      <th>1</th>\n",
              "      <td>0</td>\n",
              "      <td>0</td>\n",
              "      <td>0</td>\n",
              "      <td>0</td>\n",
              "      <td>0</td>\n",
              "      <td>0</td>\n",
              "      <td>0</td>\n",
              "      <td>0</td>\n",
              "      <td>1</td>\n",
              "      <td>1</td>\n",
              "      <td>15</td>\n",
              "      <td>1</td>\n",
              "      <td>0</td>\n",
              "      <td>0</td>\n",
              "      <td>0</td>\n",
              "    </tr>\n",
              "    <tr>\n",
              "      <th>2</th>\n",
              "      <td>0</td>\n",
              "      <td>0</td>\n",
              "      <td>0</td>\n",
              "      <td>0</td>\n",
              "      <td>0</td>\n",
              "      <td>0</td>\n",
              "      <td>0</td>\n",
              "      <td>0</td>\n",
              "      <td>1</td>\n",
              "      <td>1</td>\n",
              "      <td>12</td>\n",
              "      <td>0</td>\n",
              "      <td>0</td>\n",
              "      <td>0</td>\n",
              "      <td>0</td>\n",
              "    </tr>\n",
              "    <tr>\n",
              "      <th>3</th>\n",
              "      <td>0</td>\n",
              "      <td>1</td>\n",
              "      <td>1</td>\n",
              "      <td>1</td>\n",
              "      <td>1</td>\n",
              "      <td>1</td>\n",
              "      <td>0</td>\n",
              "      <td>1</td>\n",
              "      <td>1</td>\n",
              "      <td>0</td>\n",
              "      <td>14</td>\n",
              "      <td>0</td>\n",
              "      <td>0</td>\n",
              "      <td>0</td>\n",
              "      <td>1</td>\n",
              "    </tr>\n",
              "    <tr>\n",
              "      <th>4</th>\n",
              "      <td>1</td>\n",
              "      <td>1</td>\n",
              "      <td>1</td>\n",
              "      <td>1</td>\n",
              "      <td>1</td>\n",
              "      <td>1</td>\n",
              "      <td>1</td>\n",
              "      <td>0</td>\n",
              "      <td>0</td>\n",
              "      <td>0</td>\n",
              "      <td>16</td>\n",
              "      <td>0</td>\n",
              "      <td>0</td>\n",
              "      <td>0</td>\n",
              "      <td>1</td>\n",
              "    </tr>\n",
              "  </tbody>\n",
              "</table>\n",
              "</div>"
            ],
            "text/plain": [
              "   A1_Score  A2_Score  A3_Score  A4_Score  ...  gender  jundice  austim  Class/ASD\n",
              "0         0         0         0         1  ...       1        1       1          0\n",
              "1         0         0         0         0  ...       1        0       0          0\n",
              "2         0         0         0         0  ...       0        0       0          0\n",
              "3         0         1         1         1  ...       0        0       0          1\n",
              "4         1         1         1         1  ...       0        0       0          1\n",
              "\n",
              "[5 rows x 15 columns]"
            ]
          },
          "metadata": {
            "tags": []
          },
          "execution_count": 432
        }
      ]
    },
    {
      "cell_type": "code",
      "metadata": {
        "id": "Pz7BWCPV5h3H",
        "colab": {
          "base_uri": "https://localhost:8080/",
          "height": 562
        },
        "outputId": "e42952e1-b459-4ef5-b5e0-43cd67e59b79"
      },
      "source": [
        "df.corr()"
      ],
      "execution_count": null,
      "outputs": [
        {
          "output_type": "execute_result",
          "data": {
            "text/html": [
              "<div>\n",
              "<style scoped>\n",
              "    .dataframe tbody tr th:only-of-type {\n",
              "        vertical-align: middle;\n",
              "    }\n",
              "\n",
              "    .dataframe tbody tr th {\n",
              "        vertical-align: top;\n",
              "    }\n",
              "\n",
              "    .dataframe thead th {\n",
              "        text-align: right;\n",
              "    }\n",
              "</style>\n",
              "<table border=\"1\" class=\"dataframe\">\n",
              "  <thead>\n",
              "    <tr style=\"text-align: right;\">\n",
              "      <th></th>\n",
              "      <th>A1_Score</th>\n",
              "      <th>A2_Score</th>\n",
              "      <th>A3_Score</th>\n",
              "      <th>A4_Score</th>\n",
              "      <th>A5_Score</th>\n",
              "      <th>A6_Score</th>\n",
              "      <th>A7_Score</th>\n",
              "      <th>A8_Score</th>\n",
              "      <th>A9_Score</th>\n",
              "      <th>A10_Score</th>\n",
              "      <th>age</th>\n",
              "      <th>gender</th>\n",
              "      <th>jundice</th>\n",
              "      <th>austim</th>\n",
              "      <th>Class/ASD</th>\n",
              "    </tr>\n",
              "  </thead>\n",
              "  <tbody>\n",
              "    <tr>\n",
              "      <th>A1_Score</th>\n",
              "      <td>1.000000</td>\n",
              "      <td>1.772823e-01</td>\n",
              "      <td>-0.031546</td>\n",
              "      <td>-0.111189</td>\n",
              "      <td>2.002505e-01</td>\n",
              "      <td>0.027705</td>\n",
              "      <td>-0.106800</td>\n",
              "      <td>-0.078834</td>\n",
              "      <td>-0.048997</td>\n",
              "      <td>0.059586</td>\n",
              "      <td>-0.099884</td>\n",
              "      <td>-0.066750</td>\n",
              "      <td>0.018487</td>\n",
              "      <td>0.175882</td>\n",
              "      <td>0.175731</td>\n",
              "    </tr>\n",
              "    <tr>\n",
              "      <th>A2_Score</th>\n",
              "      <td>0.177282</td>\n",
              "      <td>1.000000e+00</td>\n",
              "      <td>0.096679</td>\n",
              "      <td>0.113528</td>\n",
              "      <td>8.901588e-17</td>\n",
              "      <td>0.042258</td>\n",
              "      <td>0.190052</td>\n",
              "      <td>-0.176882</td>\n",
              "      <td>0.039962</td>\n",
              "      <td>-0.106035</td>\n",
              "      <td>0.054836</td>\n",
              "      <td>0.157387</td>\n",
              "      <td>0.074020</td>\n",
              "      <td>0.139104</td>\n",
              "      <td>0.200381</td>\n",
              "    </tr>\n",
              "    <tr>\n",
              "      <th>A3_Score</th>\n",
              "      <td>-0.031546</td>\n",
              "      <td>9.667882e-02</td>\n",
              "      <td>1.000000</td>\n",
              "      <td>0.321199</td>\n",
              "      <td>1.400280e-01</td>\n",
              "      <td>0.369006</td>\n",
              "      <td>0.230268</td>\n",
              "      <td>0.131023</td>\n",
              "      <td>0.315969</td>\n",
              "      <td>0.192810</td>\n",
              "      <td>-0.027740</td>\n",
              "      <td>0.012447</td>\n",
              "      <td>-0.025854</td>\n",
              "      <td>-0.068327</td>\n",
              "      <td>0.488349</td>\n",
              "    </tr>\n",
              "    <tr>\n",
              "      <th>A4_Score</th>\n",
              "      <td>-0.111189</td>\n",
              "      <td>1.135275e-01</td>\n",
              "      <td>0.321199</td>\n",
              "      <td>1.000000</td>\n",
              "      <td>2.548686e-01</td>\n",
              "      <td>0.341576</td>\n",
              "      <td>0.130266</td>\n",
              "      <td>0.305785</td>\n",
              "      <td>0.280128</td>\n",
              "      <td>0.232827</td>\n",
              "      <td>0.042505</td>\n",
              "      <td>-0.130266</td>\n",
              "      <td>-0.013445</td>\n",
              "      <td>-0.050930</td>\n",
              "      <td>0.506677</td>\n",
              "    </tr>\n",
              "    <tr>\n",
              "      <th>A5_Score</th>\n",
              "      <td>0.200250</td>\n",
              "      <td>8.901588e-17</td>\n",
              "      <td>0.140028</td>\n",
              "      <td>0.254869</td>\n",
              "      <td>1.000000e+00</td>\n",
              "      <td>0.316228</td>\n",
              "      <td>0.155556</td>\n",
              "      <td>0.182574</td>\n",
              "      <td>0.135932</td>\n",
              "      <td>0.233380</td>\n",
              "      <td>0.063676</td>\n",
              "      <td>-0.022222</td>\n",
              "      <td>0.123091</td>\n",
              "      <td>0.032530</td>\n",
              "      <td>0.533919</td>\n",
              "    </tr>\n",
              "    <tr>\n",
              "      <th>A6_Score</th>\n",
              "      <td>0.027705</td>\n",
              "      <td>4.225771e-02</td>\n",
              "      <td>0.369006</td>\n",
              "      <td>0.341576</td>\n",
              "      <td>3.162278e-01</td>\n",
              "      <td>1.000000</td>\n",
              "      <td>0.066759</td>\n",
              "      <td>0.129904</td>\n",
              "      <td>0.442750</td>\n",
              "      <td>0.225094</td>\n",
              "      <td>-0.040272</td>\n",
              "      <td>-0.066759</td>\n",
              "      <td>-0.019462</td>\n",
              "      <td>0.015430</td>\n",
              "      <td>0.445450</td>\n",
              "    </tr>\n",
              "    <tr>\n",
              "      <th>A7_Score</th>\n",
              "      <td>-0.106800</td>\n",
              "      <td>1.900524e-01</td>\n",
              "      <td>0.230268</td>\n",
              "      <td>0.130266</td>\n",
              "      <td>1.555556e-01</td>\n",
              "      <td>0.066759</td>\n",
              "      <td>1.000000</td>\n",
              "      <td>0.228218</td>\n",
              "      <td>0.067060</td>\n",
              "      <td>-0.052899</td>\n",
              "      <td>0.254233</td>\n",
              "      <td>0.271111</td>\n",
              "      <td>0.036927</td>\n",
              "      <td>0.097590</td>\n",
              "      <td>0.326410</td>\n",
              "    </tr>\n",
              "    <tr>\n",
              "      <th>A8_Score</th>\n",
              "      <td>-0.078834</td>\n",
              "      <td>-1.768819e-01</td>\n",
              "      <td>0.131023</td>\n",
              "      <td>0.305785</td>\n",
              "      <td>1.825742e-01</td>\n",
              "      <td>0.129904</td>\n",
              "      <td>0.228218</td>\n",
              "      <td>1.000000</td>\n",
              "      <td>0.171242</td>\n",
              "      <td>0.255655</td>\n",
              "      <td>0.130788</td>\n",
              "      <td>-0.188660</td>\n",
              "      <td>-0.046351</td>\n",
              "      <td>0.080178</td>\n",
              "      <td>0.413770</td>\n",
              "    </tr>\n",
              "    <tr>\n",
              "      <th>A9_Score</th>\n",
              "      <td>-0.048997</td>\n",
              "      <td>3.996224e-02</td>\n",
              "      <td>0.315969</td>\n",
              "      <td>0.280128</td>\n",
              "      <td>1.359318e-01</td>\n",
              "      <td>0.442750</td>\n",
              "      <td>0.067060</td>\n",
              "      <td>0.171242</td>\n",
              "      <td>1.000000</td>\n",
              "      <td>0.414947</td>\n",
              "      <td>-0.135605</td>\n",
              "      <td>-0.208429</td>\n",
              "      <td>0.025098</td>\n",
              "      <td>0.066328</td>\n",
              "      <td>0.401178</td>\n",
              "    </tr>\n",
              "    <tr>\n",
              "      <th>A10_Score</th>\n",
              "      <td>0.059586</td>\n",
              "      <td>-1.060348e-01</td>\n",
              "      <td>0.192810</td>\n",
              "      <td>0.232827</td>\n",
              "      <td>2.333800e-01</td>\n",
              "      <td>0.225094</td>\n",
              "      <td>-0.052899</td>\n",
              "      <td>0.255655</td>\n",
              "      <td>0.414947</td>\n",
              "      <td>1.000000</td>\n",
              "      <td>-0.040619</td>\n",
              "      <td>-0.149363</td>\n",
              "      <td>0.030163</td>\n",
              "      <td>-0.009110</td>\n",
              "      <td>0.488349</td>\n",
              "    </tr>\n",
              "    <tr>\n",
              "      <th>age</th>\n",
              "      <td>-0.099884</td>\n",
              "      <td>5.483639e-02</td>\n",
              "      <td>-0.027740</td>\n",
              "      <td>0.042505</td>\n",
              "      <td>6.367623e-02</td>\n",
              "      <td>-0.040272</td>\n",
              "      <td>0.254233</td>\n",
              "      <td>0.130788</td>\n",
              "      <td>-0.135605</td>\n",
              "      <td>-0.040619</td>\n",
              "      <td>1.000000</td>\n",
              "      <td>0.101410</td>\n",
              "      <td>0.099281</td>\n",
              "      <td>-0.087689</td>\n",
              "      <td>0.106816</td>\n",
              "    </tr>\n",
              "    <tr>\n",
              "      <th>gender</th>\n",
              "      <td>-0.066750</td>\n",
              "      <td>1.573872e-01</td>\n",
              "      <td>0.012447</td>\n",
              "      <td>-0.130266</td>\n",
              "      <td>-2.222222e-02</td>\n",
              "      <td>-0.066759</td>\n",
              "      <td>0.271111</td>\n",
              "      <td>-0.188660</td>\n",
              "      <td>-0.208429</td>\n",
              "      <td>-0.149363</td>\n",
              "      <td>0.101410</td>\n",
              "      <td>1.000000</td>\n",
              "      <td>0.123091</td>\n",
              "      <td>-0.097590</td>\n",
              "      <td>-0.129504</td>\n",
              "    </tr>\n",
              "    <tr>\n",
              "      <th>jundice</th>\n",
              "      <td>0.018487</td>\n",
              "      <td>7.401957e-02</td>\n",
              "      <td>-0.025854</td>\n",
              "      <td>-0.013445</td>\n",
              "      <td>1.230915e-01</td>\n",
              "      <td>-0.019462</td>\n",
              "      <td>0.036927</td>\n",
              "      <td>-0.046351</td>\n",
              "      <td>0.025098</td>\n",
              "      <td>0.030163</td>\n",
              "      <td>0.099281</td>\n",
              "      <td>0.123091</td>\n",
              "      <td>1.000000</td>\n",
              "      <td>0.222231</td>\n",
              "      <td>-0.037755</td>\n",
              "    </tr>\n",
              "    <tr>\n",
              "      <th>austim</th>\n",
              "      <td>0.175882</td>\n",
              "      <td>1.391041e-01</td>\n",
              "      <td>-0.068327</td>\n",
              "      <td>-0.050930</td>\n",
              "      <td>3.253000e-02</td>\n",
              "      <td>0.015430</td>\n",
              "      <td>0.097590</td>\n",
              "      <td>0.080178</td>\n",
              "      <td>0.066328</td>\n",
              "      <td>-0.009110</td>\n",
              "      <td>-0.087689</td>\n",
              "      <td>-0.097590</td>\n",
              "      <td>0.222231</td>\n",
              "      <td>1.000000</td>\n",
              "      <td>-0.027715</td>\n",
              "    </tr>\n",
              "    <tr>\n",
              "      <th>Class/ASD</th>\n",
              "      <td>0.175731</td>\n",
              "      <td>2.003813e-01</td>\n",
              "      <td>0.488349</td>\n",
              "      <td>0.506677</td>\n",
              "      <td>5.339186e-01</td>\n",
              "      <td>0.445450</td>\n",
              "      <td>0.326410</td>\n",
              "      <td>0.413770</td>\n",
              "      <td>0.401178</td>\n",
              "      <td>0.488349</td>\n",
              "      <td>0.106816</td>\n",
              "      <td>-0.129504</td>\n",
              "      <td>-0.037755</td>\n",
              "      <td>-0.027715</td>\n",
              "      <td>1.000000</td>\n",
              "    </tr>\n",
              "  </tbody>\n",
              "</table>\n",
              "</div>"
            ],
            "text/plain": [
              "           A1_Score      A2_Score  A3_Score  ...   jundice    austim  Class/ASD\n",
              "A1_Score   1.000000  1.772823e-01 -0.031546  ...  0.018487  0.175882   0.175731\n",
              "A2_Score   0.177282  1.000000e+00  0.096679  ...  0.074020  0.139104   0.200381\n",
              "A3_Score  -0.031546  9.667882e-02  1.000000  ... -0.025854 -0.068327   0.488349\n",
              "A4_Score  -0.111189  1.135275e-01  0.321199  ... -0.013445 -0.050930   0.506677\n",
              "A5_Score   0.200250  8.901588e-17  0.140028  ...  0.123091  0.032530   0.533919\n",
              "A6_Score   0.027705  4.225771e-02  0.369006  ... -0.019462  0.015430   0.445450\n",
              "A7_Score  -0.106800  1.900524e-01  0.230268  ...  0.036927  0.097590   0.326410\n",
              "A8_Score  -0.078834 -1.768819e-01  0.131023  ... -0.046351  0.080178   0.413770\n",
              "A9_Score  -0.048997  3.996224e-02  0.315969  ...  0.025098  0.066328   0.401178\n",
              "A10_Score  0.059586 -1.060348e-01  0.192810  ...  0.030163 -0.009110   0.488349\n",
              "age       -0.099884  5.483639e-02 -0.027740  ...  0.099281 -0.087689   0.106816\n",
              "gender    -0.066750  1.573872e-01  0.012447  ...  0.123091 -0.097590  -0.129504\n",
              "jundice    0.018487  7.401957e-02 -0.025854  ...  1.000000  0.222231  -0.037755\n",
              "austim     0.175882  1.391041e-01 -0.068327  ...  0.222231  1.000000  -0.027715\n",
              "Class/ASD  0.175731  2.003813e-01  0.488349  ... -0.037755 -0.027715   1.000000\n",
              "\n",
              "[15 rows x 15 columns]"
            ]
          },
          "metadata": {
            "tags": []
          },
          "execution_count": 433
        }
      ]
    },
    {
      "cell_type": "code",
      "metadata": {
        "id": "MNaKcRXh2MD6"
      },
      "source": [
        "X=df.drop('Class/ASD',axis=1)\n",
        "y=df['Class/ASD']"
      ],
      "execution_count": null,
      "outputs": []
    },
    {
      "cell_type": "code",
      "metadata": {
        "id": "774NxtsSlMXB"
      },
      "source": [
        "#X=df.drop(['Class','Age_Mons', 'Sex','Family_mem_with_ASD'], axis=1)\n",
        "#y=df['Class']"
      ],
      "execution_count": null,
      "outputs": []
    },
    {
      "cell_type": "code",
      "metadata": {
        "id": "OX7u8xKL2O39",
        "colab": {
          "base_uri": "https://localhost:8080/",
          "height": 34
        },
        "outputId": "f481e3f2-fa89-4ee5-cd94-2b40fbc779ad"
      },
      "source": [
        "from collections import Counter\n",
        "from imblearn.over_sampling import RandomOverSampler\n",
        "counter = Counter(y)\n",
        "print(counter)"
      ],
      "execution_count": null,
      "outputs": [
        {
          "output_type": "stream",
          "text": [
            "Counter({1: 63, 0: 41})\n"
          ],
          "name": "stdout"
        }
      ]
    },
    {
      "cell_type": "code",
      "metadata": {
        "id": "yMgj3SHK2Q5m",
        "colab": {
          "base_uri": "https://localhost:8080/",
          "height": 34
        },
        "outputId": "88cac7ae-c209-42a9-88cc-cb8c3f562b6a"
      },
      "source": [
        "over = RandomOverSampler()\n",
        "X, y = over.fit_resample(X, y)\n",
        "counter = Counter(y)\n",
        "print(counter)"
      ],
      "execution_count": null,
      "outputs": [
        {
          "output_type": "stream",
          "text": [
            "Counter({0: 63, 1: 63})\n"
          ],
          "name": "stdout"
        }
      ]
    },
    {
      "cell_type": "code",
      "metadata": {
        "id": "8YcutjcE2S8C"
      },
      "source": [
        "# Spiliting the dataset into training and test set\n",
        "from sklearn.model_selection import train_test_split\n",
        "X_train, X_test, y_train, y_test = train_test_split(X, y, test_size = 0.2, random_state = None)"
      ],
      "execution_count": null,
      "outputs": []
    },
    {
      "cell_type": "code",
      "metadata": {
        "id": "1aaEAo8BIDRY"
      },
      "source": [
        "#pip install xgboost"
      ],
      "execution_count": null,
      "outputs": []
    },
    {
      "cell_type": "code",
      "metadata": {
        "id": "1Jo0JCKBT6OL"
      },
      "source": [
        "#pip install lightgbm"
      ],
      "execution_count": null,
      "outputs": []
    },
    {
      "cell_type": "code",
      "metadata": {
        "id": "ZIIKO7ipXH8Z"
      },
      "source": [
        "#pip install catboost"
      ],
      "execution_count": null,
      "outputs": []
    },
    {
      "cell_type": "code",
      "metadata": {
        "id": "t5vlHuKj2VPv"
      },
      "source": [
        "# Feature Scaling\n",
        "from sklearn.preprocessing import QuantileTransformer\n",
        "sc_X = QuantileTransformer()\n",
        "X_train = sc_X.fit_transform(X_train)\n",
        "X_test = sc_X.transform(X_test)"
      ],
      "execution_count": null,
      "outputs": []
    },
    {
      "cell_type": "code",
      "metadata": {
        "id": "dqZ-nSoeH5kp"
      },
      "source": [
        "from sklearn.experimental import enable_hist_gradient_boosting\n",
        "from sklearn.ensemble import GradientBoostingClassifier\n",
        "from sklearn.ensemble import HistGradientBoostingClassifier\n",
        "from xgboost import XGBClassifier\n",
        "from lightgbm import LGBMClassifier\n",
        "from catboost import CatBoostClassifier\n",
        "from sklearn.ensemble import RandomForestClassifier\n",
        "from sklearn.ensemble import ExtraTreesClassifier\n",
        "from sklearn.ensemble import BaggingClassifier\n",
        "from sklearn.ensemble import AdaBoostClassifier"
      ],
      "execution_count": null,
      "outputs": []
    },
    {
      "cell_type": "code",
      "metadata": {
        "id": "g-Soj5sdRdhk",
        "colab": {
          "base_uri": "https://localhost:8080/",
          "height": 34
        },
        "outputId": "c6e94e9c-1eea-421d-ded0-2adfacee45a9"
      },
      "source": [
        "rfc = CatBoostClassifier(verbose=0)\n",
        "rfc.fit(X_train, y_train)"
      ],
      "execution_count": null,
      "outputs": [
        {
          "output_type": "execute_result",
          "data": {
            "text/plain": [
              "<catboost.core.CatBoostClassifier at 0x7f5cc7d469e8>"
            ]
          },
          "metadata": {
            "tags": []
          },
          "execution_count": 444
        }
      ]
    },
    {
      "cell_type": "code",
      "metadata": {
        "id": "ZPWjb5WLRiu5"
      },
      "source": [
        "rfc_pred = rfc.predict(X_test)"
      ],
      "execution_count": null,
      "outputs": []
    },
    {
      "cell_type": "code",
      "metadata": {
        "id": "gckeKWNcRmUu",
        "colab": {
          "base_uri": "https://localhost:8080/",
          "height": 202
        },
        "outputId": "5817c9a2-f362-4e5a-d209-19712ce097b7"
      },
      "source": [
        "from sklearn.metrics import classification_report, confusion_matrix\n",
        "print(confusion_matrix(y_test, rfc_pred))\n",
        "print(classification_report(y_test, rfc_pred))"
      ],
      "execution_count": null,
      "outputs": [
        {
          "output_type": "stream",
          "text": [
            "[[12  1]\n",
            " [ 2 11]]\n",
            "              precision    recall  f1-score   support\n",
            "\n",
            "           0       0.86      0.92      0.89        13\n",
            "           1       0.92      0.85      0.88        13\n",
            "\n",
            "    accuracy                           0.88        26\n",
            "   macro avg       0.89      0.88      0.88        26\n",
            "weighted avg       0.89      0.88      0.88        26\n",
            "\n"
          ],
          "name": "stdout"
        }
      ]
    },
    {
      "cell_type": "code",
      "metadata": {
        "id": "bMoiLqQ1OyGq",
        "colab": {
          "base_uri": "https://localhost:8080/",
          "height": 34
        },
        "outputId": "f04fe81a-cb0c-4724-b22d-b3b9a891962a"
      },
      "source": [
        "from sklearn.metrics import matthews_corrcoef\n",
        "print(matthews_corrcoef(y_test, rfc_pred))"
      ],
      "execution_count": null,
      "outputs": [
        {
          "output_type": "stream",
          "text": [
            "0.7715167498104596\n"
          ],
          "name": "stdout"
        }
      ]
    },
    {
      "cell_type": "code",
      "metadata": {
        "id": "QCuISdClPLAL",
        "colab": {
          "base_uri": "https://localhost:8080/",
          "height": 34
        },
        "outputId": "b1754410-780d-4c50-92df-022775cb8e57"
      },
      "source": [
        "from sklearn.metrics import cohen_kappa_score\n",
        "print(cohen_kappa_score(y_test, rfc_pred))"
      ],
      "execution_count": null,
      "outputs": [
        {
          "output_type": "stream",
          "text": [
            "0.7692307692307692\n"
          ],
          "name": "stdout"
        }
      ]
    },
    {
      "cell_type": "code",
      "metadata": {
        "id": "ss8TsQTyTtj4",
        "colab": {
          "base_uri": "https://localhost:8080/",
          "height": 34
        },
        "outputId": "5ed63065-1496-4bc2-a6a9-b4b2dcbca384"
      },
      "source": [
        "from sklearn.metrics import log_loss\n",
        "print(log_loss(y_test, rfc_pred))"
      ],
      "execution_count": null,
      "outputs": [
        {
          "output_type": "stream",
          "text": [
            "3.9852741839293175\n"
          ],
          "name": "stdout"
        }
      ]
    },
    {
      "cell_type": "code",
      "metadata": {
        "id": "96s3dsAi0nVd",
        "colab": {
          "base_uri": "https://localhost:8080/",
          "height": 386
        },
        "outputId": "dbcdabad-e6ed-492c-9c92-6d27b741d943"
      },
      "source": [
        "from sklearn.model_selection import cross_val_score\n",
        "from sklearn.model_selection import KFold\n",
        "kfold = KFold(n_splits=10, random_state=None, shuffle=True)\n",
        "results = cross_val_score(rfc, X, y, cv=kfold, scoring='accuracy')\n",
        "print(results)\n",
        "print(\"\\nAccuracy: %.2f%%\" % (results.mean()*100.0))\n",
        "roc_auc = cross_val_score(rfc, X, y, cv=kfold, scoring='roc_auc')\n",
        "print('\\n')\n",
        "print(roc_auc)\n",
        "print(\"\\nROC_AUC: %.2f%%\" % (roc_auc.mean()*100.0))\n",
        "f1 = cross_val_score(rfc, X, y, cv=kfold, scoring='f1')\n",
        "print('\\n')\n",
        "print(f1)\n",
        "print(\"\\n F1: %.2f%%\" % (f1.mean()*100.0))\n",
        "precision = cross_val_score(rfc, X, y, cv=kfold, scoring='precision')\n",
        "print('\\n')\n",
        "print(precision)\n",
        "print(\"\\n Precision: %.2f%%\" % (precision.mean()*100.0))\n",
        "recall_score = cross_val_score(rfc, X, y, cv=kfold, scoring='recall')\n",
        "print('\\n')\n",
        "print(recall_score)\n",
        "print(\"\\n Recall: %.2f%%\" % (recall_score.mean()*100.0))"
      ],
      "execution_count": null,
      "outputs": [
        {
          "output_type": "stream",
          "text": [
            "[0.84615385 1.         0.76923077 0.84615385 1.         1.\n",
            " 0.91666667 0.75       1.         0.91666667]\n",
            "\n",
            "Accuracy: 90.45%\n",
            "\n",
            "\n",
            "[1.         1.         0.975      1.         1.         1.\n",
            " 1.         0.96875    1.         0.96296296]\n",
            "\n",
            "ROC_AUC: 99.07%\n",
            "\n",
            "\n",
            "[1.         0.93333333 0.8        0.90909091 0.94117647 0.92307692\n",
            " 1.         0.92307692 0.875      1.        ]\n",
            "\n",
            " F1: 93.05%\n",
            "\n",
            "\n",
            "[0.8        1.         0.85714286 1.         1.         0.8\n",
            " 1.         1.         1.         0.875     ]\n",
            "\n",
            " Precision: 93.32%\n"
          ],
          "name": "stdout"
        }
      ]
    }
  ]
}